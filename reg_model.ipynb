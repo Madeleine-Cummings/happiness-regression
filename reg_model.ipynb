{
 "cells": [
  {
   "cell_type": "code",
   "execution_count": 7,
   "id": "f71af8cc",
   "metadata": {},
   "outputs": [
    {
     "name": "stdout",
     "output_type": "stream",
     "text": [
      "Defaulting to user installation because normal site-packages is not writeable\n",
      "Requirement already satisfied: scikit-learn in c:\\users\\jiaro\\appdata\\local\\packages\\pythonsoftwarefoundation.python.3.13_qbz5n2kfra8p0\\localcache\\local-packages\\python313\\site-packages (1.6.1)\n",
      "Requirement already satisfied: numpy>=1.19.5 in c:\\users\\jiaro\\appdata\\local\\packages\\pythonsoftwarefoundation.python.3.13_qbz5n2kfra8p0\\localcache\\local-packages\\python313\\site-packages (from scikit-learn) (2.2.2)\n",
      "Requirement already satisfied: scipy>=1.6.0 in c:\\users\\jiaro\\appdata\\local\\packages\\pythonsoftwarefoundation.python.3.13_qbz5n2kfra8p0\\localcache\\local-packages\\python313\\site-packages (from scikit-learn) (1.15.2)\n",
      "Requirement already satisfied: joblib>=1.2.0 in c:\\users\\jiaro\\appdata\\local\\packages\\pythonsoftwarefoundation.python.3.13_qbz5n2kfra8p0\\localcache\\local-packages\\python313\\site-packages (from scikit-learn) (1.4.2)\n",
      "Requirement already satisfied: threadpoolctl>=3.1.0 in c:\\users\\jiaro\\appdata\\local\\packages\\pythonsoftwarefoundation.python.3.13_qbz5n2kfra8p0\\localcache\\local-packages\\python313\\site-packages (from scikit-learn) (3.6.0)\n"
     ]
    },
    {
     "name": "stderr",
     "output_type": "stream",
     "text": [
      "\n",
      "[notice] A new release of pip is available: 25.0.1 -> 25.1\n",
      "[notice] To update, run: C:\\Users\\jiaro\\AppData\\Local\\Microsoft\\WindowsApps\\PythonSoftwareFoundation.Python.3.13_qbz5n2kfra8p0\\python.exe -m pip install --upgrade pip\n"
     ]
    }
   ],
   "source": [
    "!pip install scikit-learn\n",
    "\n",
    "import pandas as pd\n",
    "import numpy as np\n",
    "import matplotlib.pyplot as plt\n",
    "import sklearn\n",
    "from sklearn.linear_model import LinearRegression\n",
    "from sklearn.metrics import r2_score\n",
    "from sklearn.metrics import mean_absolute_error, mean_squared_error, r2_score\n",
    "from sklearn.model_selection import train_test_split\n",
    "from sklearn.preprocessing import MinMaxScaler, StandardScaler\n"
   ]
  },
  {
   "cell_type": "code",
   "execution_count": 8,
   "id": "b79567b7",
   "metadata": {},
   "outputs": [
    {
     "name": "stderr",
     "output_type": "stream",
     "text": [
      "C:\\Users\\jiaro\\AppData\\Local\\Temp\\ipykernel_38304\\176207392.py:1: DtypeWarning: Columns (1,2,3,4,5,6,7,11,13,14,15) have mixed types. Specify dtype option on import or set low_memory=False.\n",
      "  pierce = pd.read_csv(r\"C:\\Users\\jiaro\\.vscode\\happiness-regression\\pierce_county_house_sales.csv\")\n"
     ]
    },
    {
     "data": {
      "text/html": [
       "<div>\n",
       "<style scoped>\n",
       "    .dataframe tbody tr th:only-of-type {\n",
       "        vertical-align: middle;\n",
       "    }\n",
       "\n",
       "    .dataframe tbody tr th {\n",
       "        vertical-align: top;\n",
       "    }\n",
       "\n",
       "    .dataframe thead th {\n",
       "        text-align: right;\n",
       "    }\n",
       "</style>\n",
       "<table border=\"1\" class=\"dataframe\">\n",
       "  <thead>\n",
       "    <tr style=\"text-align: right;\">\n",
       "      <th></th>\n",
       "      <th></th>\n",
       "      <th></th>\n",
       "      <th></th>\n",
       "      <th></th>\n",
       "      <th></th>\n",
       "      <th></th>\n",
       "      <th></th>\n",
       "      <th></th>\n",
       "      <th></th>\n",
       "      <th></th>\n",
       "      <th></th>\n",
       "      <th></th>\n",
       "      <th></th>\n",
       "      <th></th>\n",
       "      <th></th>\n",
       "      <th></th>\n",
       "      <th></th>\n",
       "      <th>&lt;&lt;&lt;&lt;&lt;&lt;&lt; HEAD</th>\n",
       "    </tr>\n",
       "  </thead>\n",
       "  <tbody>\n",
       "    <tr>\n",
       "      <th>sale_date</th>\n",
       "      <th>sale_price</th>\n",
       "      <th>house_square_feet</th>\n",
       "      <th>attic_finished_square_feet</th>\n",
       "      <th>basement_square_feet</th>\n",
       "      <th>attached_garage_square_feet</th>\n",
       "      <th>detached_garage_square_feet</th>\n",
       "      <th>fireplaces</th>\n",
       "      <th>hvac_description</th>\n",
       "      <th>exterior</th>\n",
       "      <th>interior</th>\n",
       "      <th>stories</th>\n",
       "      <th>roof_cover</th>\n",
       "      <th>year_built</th>\n",
       "      <th>bedrooms</th>\n",
       "      <th>bathrooms</th>\n",
       "      <th>waterfront_type</th>\n",
       "      <th>view_quality</th>\n",
       "      <td>utility_sewer</td>\n",
       "    </tr>\n",
       "    <tr>\n",
       "      <th rowspan=\"2\" valign=\"top\">2020-01-02</th>\n",
       "      <th>380000</th>\n",
       "      <th>2157</th>\n",
       "      <th>0</th>\n",
       "      <th>0</th>\n",
       "      <th>528</th>\n",
       "      <th>0</th>\n",
       "      <th>0</th>\n",
       "      <th>Warm and Cool Air Zone</th>\n",
       "      <th>Frame Siding</th>\n",
       "      <th>Drywall</th>\n",
       "      <th>2</th>\n",
       "      <th>Composition Shingle</th>\n",
       "      <th>1993</th>\n",
       "      <th>3</th>\n",
       "      <th>3</th>\n",
       "      <th>NaN</th>\n",
       "      <th>NaN</th>\n",
       "      <td>SEWER/SEPTIC INSTALLED</td>\n",
       "    </tr>\n",
       "    <tr>\n",
       "      <th>383000</th>\n",
       "      <th>2238</th>\n",
       "      <th>0</th>\n",
       "      <th>0</th>\n",
       "      <th>396</th>\n",
       "      <th>0</th>\n",
       "      <th>0</th>\n",
       "      <th>Forced Air</th>\n",
       "      <th>Frame Siding</th>\n",
       "      <th>Drywall</th>\n",
       "      <th>2</th>\n",
       "      <th>Composition Shingle</th>\n",
       "      <th>2017</th>\n",
       "      <th>4</th>\n",
       "      <th>3</th>\n",
       "      <th>NaN</th>\n",
       "      <th>NaN</th>\n",
       "      <td>SEWER/SEPTIC INSTALLED</td>\n",
       "    </tr>\n",
       "    <tr>\n",
       "      <th>2020-01-01</th>\n",
       "      <th>419900</th>\n",
       "      <th>1452</th>\n",
       "      <th>0</th>\n",
       "      <th>0</th>\n",
       "      <th>0</th>\n",
       "      <th>0</th>\n",
       "      <th>1</th>\n",
       "      <th>Forced Air</th>\n",
       "      <th>Frame Siding</th>\n",
       "      <th>Drywall</th>\n",
       "      <th>1</th>\n",
       "      <th>Built Up Rock</th>\n",
       "      <th>1965</th>\n",
       "      <th>3</th>\n",
       "      <th>2</th>\n",
       "      <th>NaN</th>\n",
       "      <th>NaN</th>\n",
       "      <td>SEWER/SEPTIC INSTALLED</td>\n",
       "    </tr>\n",
       "    <tr>\n",
       "      <th>2020-01-02</th>\n",
       "      <th>251660</th>\n",
       "      <th>832</th>\n",
       "      <th>0</th>\n",
       "      <th>0</th>\n",
       "      <th>0</th>\n",
       "      <th>0</th>\n",
       "      <th>0</th>\n",
       "      <th>Forced Air</th>\n",
       "      <th>Frame Vinyl</th>\n",
       "      <th>Drywall</th>\n",
       "      <th>1</th>\n",
       "      <th>Composition Shingle</th>\n",
       "      <th>1919</th>\n",
       "      <th>2</th>\n",
       "      <th>1</th>\n",
       "      <th>NaN</th>\n",
       "      <th>NaN</th>\n",
       "      <td>SEWER/SEPTIC INSTALLED</td>\n",
       "    </tr>\n",
       "  </tbody>\n",
       "</table>\n",
       "</div>"
      ],
      "text/plain": [
       "                                                                                                                                                                                                                                                                                                          <<<<<<< HEAD\n",
       "sale_date  sale_price house_square_feet attic_finished_square_feet basement_square_feet attached_garage_square_feet detached_garage_square_feet fireplaces hvac_description       exterior     interior stories roof_cover          year_built bedrooms bathrooms waterfront_type view_quality           utility_sewer\n",
       "2020-01-02 380000     2157              0                          0                    528                         0                           0          Warm and Cool Air Zone Frame Siding Drywall  2       Composition Shingle 1993       3        3         NaN             NaN           SEWER/SEPTIC INSTALLED\n",
       "           383000     2238              0                          0                    396                         0                           0          Forced Air             Frame Siding Drywall  2       Composition Shingle 2017       4        3         NaN             NaN           SEWER/SEPTIC INSTALLED\n",
       "2020-01-01 419900     1452              0                          0                    0                           0                           1          Forced Air             Frame Siding Drywall  1       Built Up Rock       1965       3        2         NaN             NaN           SEWER/SEPTIC INSTALLED\n",
       "2020-01-02 251660     832               0                          0                    0                           0                           0          Forced Air             Frame Vinyl  Drywall  1       Composition Shingle 1919       2        1         NaN             NaN           SEWER/SEPTIC INSTALLED"
      ]
     },
     "execution_count": 8,
     "metadata": {},
     "output_type": "execute_result"
    }
   ],
   "source": [
    "pierce = pd.read_csv(r\"C:\\Users\\jiaro\\.vscode\\happiness-regression\\pierce_county_house_sales.csv\")\n",
    "\n",
    "pierce.head()"
   ]
  },
  {
   "cell_type": "markdown",
   "id": "4ac3e2ea",
   "metadata": {},
   "source": [
    "## Model Building"
   ]
  },
  {
   "cell_type": "code",
   "execution_count": null,
   "id": "1e0014fc",
   "metadata": {},
   "outputs": [
    {
     "ename": "KeyError",
     "evalue": "\"None of [Index(['sale_price', 'house_square_feet', 'attic_finished_square_feet',\\n       'basement_square_feet', 'attached_garage_square_feet',\\n       'detached_garage_square_feet', 'fireplaces', 'year_built', 'bedrooms',\\n       'bathrooms'],\\n      dtype='object')] are in the [columns]\"",
     "output_type": "error",
     "traceback": [
      "\u001b[31m---------------------------------------------------------------------------\u001b[39m",
      "\u001b[31mKeyError\u001b[39m                                  Traceback (most recent call last)",
      "\u001b[36mCell\u001b[39m\u001b[36m \u001b[39m\u001b[32mIn[10]\u001b[39m\u001b[32m, line 8\u001b[39m\n\u001b[32m      5\u001b[39m scaler = StandardScaler()\n\u001b[32m      7\u001b[39m numeric = [\u001b[33m'\u001b[39m\u001b[33msale_price\u001b[39m\u001b[33m'\u001b[39m, \u001b[33m'\u001b[39m\u001b[33mhouse_square_feet\u001b[39m\u001b[33m'\u001b[39m, \u001b[33m'\u001b[39m\u001b[33mattic_finished_square_feet\u001b[39m\u001b[33m'\u001b[39m, \u001b[33m'\u001b[39m\u001b[33mbasement_square_feet\u001b[39m\u001b[33m'\u001b[39m, \u001b[33m'\u001b[39m\u001b[33mattached_garage_square_feet\u001b[39m\u001b[33m'\u001b[39m, \u001b[33m'\u001b[39m\u001b[33mdetached_garage_square_feet\u001b[39m\u001b[33m'\u001b[39m,\u001b[33m'\u001b[39m\u001b[33mfireplaces\u001b[39m\u001b[33m'\u001b[39m, \u001b[33m'\u001b[39m\u001b[33myear_built\u001b[39m\u001b[33m'\u001b[39m, \u001b[33m'\u001b[39m\u001b[33mbedrooms\u001b[39m\u001b[33m'\u001b[39m, \u001b[33m'\u001b[39m\u001b[33mbathrooms\u001b[39m\u001b[33m'\u001b[39m]\n\u001b[32m----> \u001b[39m\u001b[32m8\u001b[39m scaled_array = scaler.fit_transform(\u001b[43mpierce\u001b[49m\u001b[43m[\u001b[49m\u001b[43mnumeric\u001b[49m\u001b[43m]\u001b[49m)\n\u001b[32m      9\u001b[39m scaled_numeric = pd.DataFrame(scaled_array, columns=numeric, index=pierce.index)\n\u001b[32m     10\u001b[39m scaled_numeric.drop(columns = [\u001b[33m'\u001b[39m\u001b[33msale_price\u001b[39m\u001b[33m'\u001b[39m], inplace = \u001b[38;5;28;01mTrue\u001b[39;00m)\n",
      "\u001b[36mFile \u001b[39m\u001b[32m~\\AppData\\Local\\Packages\\PythonSoftwareFoundation.Python.3.13_qbz5n2kfra8p0\\LocalCache\\local-packages\\Python313\\site-packages\\pandas\\core\\frame.py:4108\u001b[39m, in \u001b[36mDataFrame.__getitem__\u001b[39m\u001b[34m(self, key)\u001b[39m\n\u001b[32m   4106\u001b[39m     \u001b[38;5;28;01mif\u001b[39;00m is_iterator(key):\n\u001b[32m   4107\u001b[39m         key = \u001b[38;5;28mlist\u001b[39m(key)\n\u001b[32m-> \u001b[39m\u001b[32m4108\u001b[39m     indexer = \u001b[38;5;28;43mself\u001b[39;49m\u001b[43m.\u001b[49m\u001b[43mcolumns\u001b[49m\u001b[43m.\u001b[49m\u001b[43m_get_indexer_strict\u001b[49m\u001b[43m(\u001b[49m\u001b[43mkey\u001b[49m\u001b[43m,\u001b[49m\u001b[43m \u001b[49m\u001b[33;43m\"\u001b[39;49m\u001b[33;43mcolumns\u001b[39;49m\u001b[33;43m\"\u001b[39;49m\u001b[43m)\u001b[49m[\u001b[32m1\u001b[39m]\n\u001b[32m   4110\u001b[39m \u001b[38;5;66;03m# take() does not accept boolean indexers\u001b[39;00m\n\u001b[32m   4111\u001b[39m \u001b[38;5;28;01mif\u001b[39;00m \u001b[38;5;28mgetattr\u001b[39m(indexer, \u001b[33m\"\u001b[39m\u001b[33mdtype\u001b[39m\u001b[33m\"\u001b[39m, \u001b[38;5;28;01mNone\u001b[39;00m) == \u001b[38;5;28mbool\u001b[39m:\n",
      "\u001b[36mFile \u001b[39m\u001b[32m~\\AppData\\Local\\Packages\\PythonSoftwareFoundation.Python.3.13_qbz5n2kfra8p0\\LocalCache\\local-packages\\Python313\\site-packages\\pandas\\core\\indexes\\base.py:6200\u001b[39m, in \u001b[36mIndex._get_indexer_strict\u001b[39m\u001b[34m(self, key, axis_name)\u001b[39m\n\u001b[32m   6197\u001b[39m \u001b[38;5;28;01melse\u001b[39;00m:\n\u001b[32m   6198\u001b[39m     keyarr, indexer, new_indexer = \u001b[38;5;28mself\u001b[39m._reindex_non_unique(keyarr)\n\u001b[32m-> \u001b[39m\u001b[32m6200\u001b[39m \u001b[38;5;28;43mself\u001b[39;49m\u001b[43m.\u001b[49m\u001b[43m_raise_if_missing\u001b[49m\u001b[43m(\u001b[49m\u001b[43mkeyarr\u001b[49m\u001b[43m,\u001b[49m\u001b[43m \u001b[49m\u001b[43mindexer\u001b[49m\u001b[43m,\u001b[49m\u001b[43m \u001b[49m\u001b[43maxis_name\u001b[49m\u001b[43m)\u001b[49m\n\u001b[32m   6202\u001b[39m keyarr = \u001b[38;5;28mself\u001b[39m.take(indexer)\n\u001b[32m   6203\u001b[39m \u001b[38;5;28;01mif\u001b[39;00m \u001b[38;5;28misinstance\u001b[39m(key, Index):\n\u001b[32m   6204\u001b[39m     \u001b[38;5;66;03m# GH 42790 - Preserve name from an Index\u001b[39;00m\n",
      "\u001b[36mFile \u001b[39m\u001b[32m~\\AppData\\Local\\Packages\\PythonSoftwareFoundation.Python.3.13_qbz5n2kfra8p0\\LocalCache\\local-packages\\Python313\\site-packages\\pandas\\core\\indexes\\base.py:6249\u001b[39m, in \u001b[36mIndex._raise_if_missing\u001b[39m\u001b[34m(self, key, indexer, axis_name)\u001b[39m\n\u001b[32m   6247\u001b[39m \u001b[38;5;28;01mif\u001b[39;00m nmissing:\n\u001b[32m   6248\u001b[39m     \u001b[38;5;28;01mif\u001b[39;00m nmissing == \u001b[38;5;28mlen\u001b[39m(indexer):\n\u001b[32m-> \u001b[39m\u001b[32m6249\u001b[39m         \u001b[38;5;28;01mraise\u001b[39;00m \u001b[38;5;167;01mKeyError\u001b[39;00m(\u001b[33mf\u001b[39m\u001b[33m\"\u001b[39m\u001b[33mNone of [\u001b[39m\u001b[38;5;132;01m{\u001b[39;00mkey\u001b[38;5;132;01m}\u001b[39;00m\u001b[33m] are in the [\u001b[39m\u001b[38;5;132;01m{\u001b[39;00maxis_name\u001b[38;5;132;01m}\u001b[39;00m\u001b[33m]\u001b[39m\u001b[33m\"\u001b[39m)\n\u001b[32m   6251\u001b[39m     not_found = \u001b[38;5;28mlist\u001b[39m(ensure_index(key)[missing_mask.nonzero()[\u001b[32m0\u001b[39m]].unique())\n\u001b[32m   6252\u001b[39m     \u001b[38;5;28;01mraise\u001b[39;00m \u001b[38;5;167;01mKeyError\u001b[39;00m(\u001b[33mf\u001b[39m\u001b[33m\"\u001b[39m\u001b[38;5;132;01m{\u001b[39;00mnot_found\u001b[38;5;132;01m}\u001b[39;00m\u001b[33m not in index\u001b[39m\u001b[33m\"\u001b[39m)\n",
      "\u001b[31mKeyError\u001b[39m: \"None of [Index(['sale_price', 'house_square_feet', 'attic_finished_square_feet',\\n       'basement_square_feet', 'attached_garage_square_feet',\\n       'detached_garage_square_feet', 'fireplaces', 'year_built', 'bedrooms',\\n       'bathrooms'],\\n      dtype='object')] are in the [columns]\""
     ]
    }
   ],
   "source": [
    "pierce = pierce.drop(columns = ['waterfront_type', 'view_quality', 'sale_date'])\n",
    "pierce.isnull().sum()\n",
    "pierce = pierce.dropna()\n",
    "\n",
    "scaler = StandardScaler()\n",
    "\n",
    "numeric = ['sale_price', 'house_square_feet', 'attic_finished_square_feet', 'basement_square_feet', 'attached_garage_square_feet', 'detached_garage_square_feet','fireplaces', 'year_built', 'bedrooms', 'bathrooms']\n",
    "scaled_array = scaler.fit_transform(pierce[numeric])\n",
    "scaled_numeric = pd.DataFrame(scaled_array, columns=numeric, index=pierce.index)\n",
    "scaled_numeric.drop(columns = ['sale_price'], inplace = True)"
   ]
  },
  {
   "cell_type": "code",
   "execution_count": null,
   "id": "6d1d492e",
   "metadata": {},
   "outputs": [
    {
     "name": "stdout",
     "output_type": "stream",
     "text": [
      "test mse: 28432751901.99161\n",
      "test rmse: 168620.1408550936\n",
      "test r^2: 0.4514162037394358\n"
     ]
    }
   ],
   "source": [
    "pierce_categorical = pd.get_dummies(pierce[['hvac_description', 'exterior', 'interior', 'roof_cover', 'utility_sewer']], drop_first=True) \n",
    "X_combined = pd.concat([scaled_numeric, pierce_categorical], axis=1)\n",
    "y = scaled_numeric[\"sale_price\"]\n",
    "\n",
    "X_train, X_test, Y_train, Y_test = train_test_split(X_combined, y, test_size=0.2, random_state=42)\n",
    "\n",
    "model = LinearRegression().fit(X_train, Y_train)\n",
    "\n",
    "y_test_pred = model.predict(X_test)\n",
    "\n",
    "test_mse = mean_squared_error(Y_test, y_test_pred)\n",
    "test_rmse = test_mse**0.5\n",
    "test_r2 = r2_score(Y_test, y_test_pred)\n",
    "\n",
    "print(f\"test mse: {test_mse}\")\n",
    "print(f\"test rmse: {test_rmse}\")\n",
    "print(f\"test r^2: {test_r2}\")\n",
    "\n",
    "y_train_pred = model.predict(X_train)\n",
    "\n",
    "train_mse = mean_squared_error(Y_train, y_train_pred)\n",
    "train_rmse = train_mse**0.5\n",
    "train_r2 = r2_score(Y_train, y_train_pred)\n",
    "\n",
    "#print(f\"train rmse: {train_rmse}\")\n",
    "#print(f\"train r2: {train_r2}\")"
   ]
  },
  {
   "cell_type": "markdown",
   "id": "f74267ea",
   "metadata": {},
   "source": []
  }
 ],
 "metadata": {
  "kernelspec": {
   "display_name": "Python 3",
   "language": "python",
   "name": "python3"
  },
  "language_info": {
   "codemirror_mode": {
    "name": "ipython",
    "version": 3
   },
   "file_extension": ".py",
   "mimetype": "text/x-python",
   "name": "python",
   "nbconvert_exporter": "python",
   "pygments_lexer": "ipython3",
   "version": "3.13.3"
  }
 },
 "nbformat": 4,
 "nbformat_minor": 5
}
